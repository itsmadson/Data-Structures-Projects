{
 "cells": [
  {
   "metadata": {},
   "cell_type": "markdown",
   "source": "Find min and max in BST",
   "id": "4cd98ef2d69b89b5"
  },
  {
   "metadata": {},
   "cell_type": "code",
   "outputs": [],
   "source": [
    "def find_min(root):\n",
    "    while root.left:\n",
    "        root = root.left\n",
    "    return root.data\n",
    "def find_max(root):\n",
    "    while root.right:\n",
    "        root = root.right\n",
    "    return root.data"
   ],
   "id": "initial_id",
   "execution_count": null
  },
  {
   "metadata": {},
   "cell_type": "markdown",
   "source": "Find tree_height",
   "id": "710fa474158f910d"
  },
  {
   "metadata": {
    "ExecuteTime": {
     "end_time": "2025-06-07T17:59:45.372441Z",
     "start_time": "2025-06-07T17:59:45.366718Z"
    }
   },
   "cell_type": "code",
   "source": [
    "def tree_height(node):\n",
    "    if node is None:\n",
    "        return 0\n",
    "\n",
    "    left_height = tree_height(node.left)\n",
    "    right_height = tree_height(node.right)\n",
    "\n",
    "    return max(left_height,right_height)+1\n"
   ],
   "id": "7a530547c2070fa3",
   "outputs": [],
   "execution_count": 3
  }
 ],
 "metadata": {
  "kernelspec": {
   "display_name": "Python 3",
   "language": "python",
   "name": "python3"
  },
  "language_info": {
   "codemirror_mode": {
    "name": "ipython",
    "version": 2
   },
   "file_extension": ".py",
   "mimetype": "text/x-python",
   "name": "python",
   "nbconvert_exporter": "python",
   "pygments_lexer": "ipython2",
   "version": "2.7.6"
  }
 },
 "nbformat": 4,
 "nbformat_minor": 5
}
