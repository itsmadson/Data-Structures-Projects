{
 "cells": [
  {
   "metadata": {},
   "cell_type": "markdown",
   "source": "immplement stack with linked list",
   "id": "c980759960ebcf65"
  },
  {
   "metadata": {},
   "cell_type": "code",
   "outputs": [],
   "source": [
    "class Node:\n",
    "    def __init__(self,data):\n",
    "        self.data = data\n",
    "        self.next = None\n",
    "\n",
    "class Stack:\n",
    "\n",
    "    def __init__ (self):\n",
    "        self.top = None\n",
    "\n",
    "\n",
    "    def push(self,data):\n",
    "        node = Node(data)\n",
    "        node.next = self.top\n",
    "        self.top = node\n",
    "\n",
    "\n",
    "    def pop(self):\n",
    "        if self.top is None:\n",
    "            return None\n",
    "        value = self.top.data\n",
    "        self.top = self.top.next\n",
    "        return value"
   ],
   "id": "initial_id",
   "execution_count": null
  },
  {
   "metadata": {},
   "cell_type": "markdown",
   "source": "Using Queue to search in BFS",
   "id": "8a8e15c6f93a1b2a"
  },
  {
   "metadata": {},
   "cell_type": "code",
   "outputs": [],
   "execution_count": null,
   "source": [
    "from collections import deque\n",
    "class Tree:\n",
    "    def bfs(self):\n",
    "        list_of_nodes = []\n",
    "        traversal_q = deque([self.root_node])\n",
    "        while traversal_q:\n",
    "            node = traversal_q.popleft()\n",
    "            list_of_nodes.append(node.data)\n",
    "            if node.left_child:\n",
    "                traversal_q.append(node.left_child)\n",
    "            if node.right_child:\n",
    "                traversal_q.append(node.right_child)\n",
    "        return list_of_nodes"
   ],
   "id": "e55a130ae9f2411d"
  },
  {
   "metadata": {},
   "cell_type": "markdown",
   "source": "Reverse string using stack",
   "id": "6ff1def9d00d4c5b"
  },
  {
   "metadata": {
    "ExecuteTime": {
     "end_time": "2025-06-07T17:35:02.713774Z",
     "start_time": "2025-06-07T17:35:02.707263Z"
    }
   },
   "cell_type": "code",
   "source": [
    "def reverse_string(words):\n",
    "    word_stack = []\n",
    "    for ch in words:\n",
    "        word_stack.append(ch)\n",
    "    reversed_str =''\n",
    "    while word_stack:\n",
    "        reversed_str += word_stack.pop()\n",
    "    return reversed_str\n",
    "#test\n",
    "print(reverse_string(\"im,ok\"))"
   ],
   "id": "c3a5f6e31ff1bfb1",
   "outputs": [
    {
     "name": "stdout",
     "output_type": "stream",
     "text": [
      "ko,mi\n"
     ]
    }
   ],
   "execution_count": 1
  },
  {
   "metadata": {},
   "cell_type": "markdown",
   "source": "MusicPlayer with Queue",
   "id": "6fd5b8cf62999e1f"
  },
  {
   "metadata": {},
   "cell_type": "code",
   "outputs": [],
   "execution_count": null,
   "source": [
    "class MusicPlayer:\n",
    "    def __init__(self):\n",
    "        self.queue = deque()\n",
    "\n",
    "    def add_song(self,song):\n",
    "        self.queue.append(song)\n",
    "\n",
    "    def play_song(self):\n",
    "        if self.queue:\n",
    "            mediaplayer(self.queue.popleft())\n",
    "        else:\n",
    "            print(\"No song\")"
   ],
   "id": "73deb6bee3d84ee6"
  }
 ],
 "metadata": {
  "kernelspec": {
   "display_name": "Python 3",
   "language": "python",
   "name": "python3"
  },
  "language_info": {
   "codemirror_mode": {
    "name": "ipython",
    "version": 2
   },
   "file_extension": ".py",
   "mimetype": "text/x-python",
   "name": "python",
   "nbconvert_exporter": "python",
   "pygments_lexer": "ipython2",
   "version": "2.7.6"
  }
 },
 "nbformat": 4,
 "nbformat_minor": 5
}
