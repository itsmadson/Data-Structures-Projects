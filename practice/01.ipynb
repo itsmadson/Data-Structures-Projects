{
 "cells": [
  {
   "cell_type": "code",
   "execution_count": null,
   "id": "initial_id",
   "metadata": {
    "collapsed": true
   },
   "outputs": [],
   "source": [
    "class Student:\n",
    "\n",
    "    def __init__ (self,name=None,grade=None):\n",
    "        self.name = name\n",
    "        self.grade = grade\n",
    "\n",
    "\n",
    "    def __str__(self):\n",
    "        return f\"Student name: {self.name} Grade: {self.grade}\"\n",
    "\n",
    "\n",
    "    def is_passed(self):\n",
    "        if self.grade >= 10:\n",
    "            return True\n",
    "        else:\n",
    "            return False"
   ]
  },
  {
   "metadata": {
    "ExecuteTime": {
     "end_time": "2025-06-07T12:15:24.319826Z",
     "start_time": "2025-06-07T12:15:24.313171Z"
    }
   },
   "cell_type": "code",
   "source": [
    "class employee:\n",
    "    count = 0\n",
    "\n",
    "    def __init__(self, empid, name=None, income=None):\n",
    "        self.empid = empid\n",
    "        self.name = name\n",
    "        self.income = income\n",
    "        employee.count += 1\n",
    "\n",
    "    def __str__(self):\n",
    "        return f\"EmpId: {self.empid} Name: {self.name} Income: {self.income}\"\n",
    "\n",
    "    @classmethod\n",
    "    def get_count(cls):\n",
    "        return cls.count\n",
    "\n",
    "# Test it\n",
    "emp = employee(12, 'asghar', 3000)\n",
    "emp1 = employee(13, 'hasan', 4000)\n",
    "emp2 = employee(14, 'hossein', 5000)\n",
    "\n",
    "print(emp)\n",
    "print('Emp count:', employee.get_count())\n"
   ],
   "id": "90d40f81cef86b4f",
   "outputs": [
    {
     "name": "stdout",
     "output_type": "stream",
     "text": [
      "EmpId: 12 Name: asghar Income: 3000\n",
      "Emp count: 3\n"
     ]
    }
   ],
   "execution_count": 15
  },
  {
   "metadata": {
    "ExecuteTime": {
     "end_time": "2025-06-07T12:08:01.653724Z",
     "start_time": "2025-06-07T12:08:01.637967Z"
    }
   },
   "cell_type": "code",
   "source": [
    "test = [[1,2,3],[4,5,6]]\n",
    "for row in test:\n",
    "    for item in row:\n",
    "        if (item%2) == 0:\n",
    "            print(item)\n",
    "\n",
    "print([item for row in test for item in row if (item%2) == 0])"
   ],
   "id": "cdb32c2a512dd10c",
   "outputs": [
    {
     "name": "stdout",
     "output_type": "stream",
     "text": [
      "2\n",
      "4\n",
      "6\n",
      "[2, 4, 6]\n"
     ]
    }
   ],
   "execution_count": 7
  }
 ],
 "metadata": {
  "kernelspec": {
   "display_name": "Python 3",
   "language": "python",
   "name": "python3"
  },
  "language_info": {
   "codemirror_mode": {
    "name": "ipython",
    "version": 2
   },
   "file_extension": ".py",
   "mimetype": "text/x-python",
   "name": "python",
   "nbconvert_exporter": "python",
   "pygments_lexer": "ipython2",
   "version": "2.7.6"
  }
 },
 "nbformat": 4,
 "nbformat_minor": 5
}
